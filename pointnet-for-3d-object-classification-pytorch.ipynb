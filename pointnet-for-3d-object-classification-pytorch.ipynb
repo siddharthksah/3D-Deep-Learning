{
 "cells": [
  {
   "cell_type": "code",
   "execution_count": null,
   "metadata": {
    "_cell_guid": "79c7e3d0-c299-4dcb-8224-4455121ee9b0",
    "_uuid": "d629ff2d2480ee46fbb7e2d37f6b5fab8052498a",
    "execution": {
     "iopub.execute_input": "2021-01-21T10:37:55.960869Z",
     "iopub.status.busy": "2021-01-21T10:37:55.960193Z",
     "iopub.status.idle": "2021-01-21T10:38:00.239116Z",
     "shell.execute_reply": "2021-01-21T10:38:00.238491Z"
    },
    "papermill": {
     "duration": 4.31265,
     "end_time": "2021-01-21T10:38:00.239233",
     "exception": false,
     "start_time": "2021-01-21T10:37:55.926583",
     "status": "completed"
    },
    "tags": []
   },
   "outputs": [],
   "source": [
    "import os\n",
    "import numpy as np\n",
    "import itertools\n",
    "import math, random\n",
    "random.seed = 42\n",
    "\n",
    "import torch\n",
    "from torch.utils.data import Dataset, DataLoader\n",
    "from torchvision import transforms, utils\n",
    "\n",
    "from path import Path\n",
    "import scipy.spatial.distance\n",
    "import plotly.graph_objects as go\n",
    "import plotly.express as px\n",
    "import matplotlib.pyplot as plt\n",
    "from sklearn.metrics import confusion_matrix"
   ]
  },
  {
   "cell_type": "code",
   "execution_count": null,
   "metadata": {
    "execution": {
     "iopub.execute_input": "2021-01-21T10:38:00.300936Z",
     "iopub.status.busy": "2021-01-21T10:38:00.300004Z",
     "iopub.status.idle": "2021-01-21T10:38:00.322204Z",
     "shell.execute_reply": "2021-01-21T10:38:00.321427Z"
    },
    "papermill": {
     "duration": 0.055885,
     "end_time": "2021-01-21T10:38:00.322351",
     "exception": false,
     "start_time": "2021-01-21T10:38:00.266466",
     "status": "completed"
    },
    "tags": []
   },
   "outputs": [],
   "source": [
    "path = Path(\"./archive/ModelNet40\")\n",
    "\n",
    "folders = [dir for dir in sorted(os.listdir(path)) if os.path.isdir(path/dir)]\n",
    "classes = {folder: i for i, folder in enumerate(folders)};\n",
    "classes"
   ]
  },
  {
   "cell_type": "markdown",
   "metadata": {
    "papermill": {
     "duration": 0.039991,
     "end_time": "2021-01-21T10:38:00.403539",
     "exception": false,
     "start_time": "2021-01-21T10:38:00.363548",
     "status": "completed"
    },
    "tags": []
   },
   "source": [
    "### Utility Functions"
   ]
  },
  {
   "cell_type": "code",
   "execution_count": null,
   "metadata": {
    "execution": {
     "iopub.execute_input": "2021-01-21T10:38:00.500785Z",
     "iopub.status.busy": "2021-01-21T10:38:00.495321Z",
     "iopub.status.idle": "2021-01-21T10:38:00.514232Z",
     "shell.execute_reply": "2021-01-21T10:38:00.515005Z"
    },
    "papermill": {
     "duration": 0.070856,
     "end_time": "2021-01-21T10:38:00.515185",
     "exception": false,
     "start_time": "2021-01-21T10:38:00.444329",
     "status": "completed"
    },
    "tags": []
   },
   "outputs": [],
   "source": [
    "def read_off(file):\n",
    "    off_header = file.readline().strip()\n",
    "    if 'OFF' == off_header:\n",
    "        n_verts, n_faces, __ = tuple([int(s) for s in file.readline().strip().split(' ')])\n",
    "    else:\n",
    "        n_verts, n_faces, __ = tuple([int(s) for s in off_header[3:].split(' ')])\n",
    "    verts = [[float(s) for s in file.readline().strip().split(' ')] for i_vert in range(n_verts)]\n",
    "    faces = [[int(s) for s in file.readline().strip().split(' ')][1:] for i_face in range(n_faces)]\n",
    "    return verts, faces\n",
    "\n",
    "\n",
    "def visualize_rotate(data):\n",
    "    x_eye, y_eye, z_eye = 1.25, 1.25, 0.8\n",
    "    frames=[]\n",
    "\n",
    "    def rotate_z(x, y, z, theta):\n",
    "        w = x+1j*y\n",
    "        return np.real(np.exp(1j*theta)*w), np.imag(np.exp(1j*theta)*w), z\n",
    "\n",
    "    for t in np.arange(0, 10.26, 0.1):\n",
    "        xe, ye, ze = rotate_z(x_eye, y_eye, z_eye, -t)\n",
    "        frames.append(dict(layout=dict(scene=dict(camera=dict(eye=dict(x=xe, y=ye, z=ze))))))\n",
    "    fig = go.Figure(data=data,\n",
    "        layout=go.Layout(\n",
    "            updatemenus=[dict(type='buttons',\n",
    "                showactive=False,\n",
    "                y=1,\n",
    "                x=0.8,\n",
    "                xanchor='left',\n",
    "                yanchor='bottom',\n",
    "                pad=dict(t=45, r=10),\n",
    "                buttons=[dict(label='Play',\n",
    "                    method='animate',\n",
    "                    args=[None, dict(frame=dict(duration=50, redraw=True),\n",
    "                        transition=dict(duration=0),\n",
    "                        fromcurrent=True,\n",
    "                        mode='immediate'\n",
    "                        )]\n",
    "                    )\n",
    "                ])]\n",
    "        ),\n",
    "        frames=frames\n",
    "    )\n",
    "\n",
    "    return fig\n",
    "\n",
    "\n",
    "def pcshow(xs,ys,zs):\n",
    "    data=[go.Scatter3d(x=xs, y=ys, z=zs,\n",
    "                                   mode='markers')]\n",
    "    fig = visualize_rotate(data)\n",
    "    fig.update_traces(marker=dict(size=2,\n",
    "                      line=dict(width=2,\n",
    "                      color='DarkSlateGrey')),\n",
    "                      selector=dict(mode='markers'))\n",
    "    fig.show()"
   ]
  },
  {
   "cell_type": "code",
   "execution_count": null,
   "metadata": {
    "execution": {
     "iopub.execute_input": "2021-01-21T10:38:00.603538Z",
     "iopub.status.busy": "2021-01-21T10:38:00.602684Z",
     "iopub.status.idle": "2021-01-21T10:38:01.557932Z",
     "shell.execute_reply": "2021-01-21T10:38:01.557155Z"
    },
    "papermill": {
     "duration": 1.002309,
     "end_time": "2021-01-21T10:38:01.558053",
     "exception": false,
     "start_time": "2021-01-21T10:38:00.555744",
     "status": "completed"
    },
    "tags": []
   },
   "outputs": [],
   "source": [
    "with open(path/\"airplane/train/airplane_0001.off\", 'r') as f:\n",
    "    verts, faces = read_off(f)\n",
    "    \n",
    "i,j,k = np.array(faces).T\n",
    "x,y,z = np.array(verts).T\n",
    "len(x)"
   ]
  },
  {
   "cell_type": "code",
   "execution_count": null,
   "metadata": {
    "execution": {
     "iopub.execute_input": "2021-01-21T10:38:01.618076Z",
     "iopub.status.busy": "2021-01-21T10:38:01.617166Z",
     "iopub.status.idle": "2021-01-21T10:38:02.650899Z",
     "shell.execute_reply": "2021-01-21T10:38:02.651431Z"
    },
    "papermill": {
     "duration": 1.065349,
     "end_time": "2021-01-21T10:38:02.651570",
     "exception": false,
     "start_time": "2021-01-21T10:38:01.586221",
     "status": "completed"
    },
    "tags": []
   },
   "outputs": [],
   "source": [
    "visualize_rotate([go.Mesh3d(x=x, y=y, z=z, color='yellowgreen', opacity=0.50, i=i,j=j,k=k)]).show()"
   ]
  },
  {
   "cell_type": "code",
   "execution_count": null,
   "metadata": {
    "execution": {
     "iopub.execute_input": "2021-01-21T10:38:02.906871Z",
     "iopub.status.busy": "2021-01-21T10:38:02.905920Z",
     "iopub.status.idle": "2021-01-21T10:38:03.372873Z",
     "shell.execute_reply": "2021-01-21T10:38:03.373428Z"
    },
    "papermill": {
     "duration": 0.594367,
     "end_time": "2021-01-21T10:38:03.373581",
     "exception": false,
     "start_time": "2021-01-21T10:38:02.779214",
     "status": "completed"
    },
    "tags": []
   },
   "outputs": [],
   "source": [
    "visualize_rotate([go.Scatter3d(x=x, y=y, z=z, mode='markers')]).show()"
   ]
  },
  {
   "cell_type": "code",
   "execution_count": null,
   "metadata": {
    "execution": {
     "iopub.execute_input": "2021-01-21T10:38:03.698329Z",
     "iopub.status.busy": "2021-01-21T10:38:03.697452Z",
     "iopub.status.idle": "2021-01-21T10:38:04.401875Z",
     "shell.execute_reply": "2021-01-21T10:38:04.402590Z"
    },
    "papermill": {
     "duration": 0.855751,
     "end_time": "2021-01-21T10:38:04.402804",
     "exception": false,
     "start_time": "2021-01-21T10:38:03.547053",
     "status": "completed"
    },
    "tags": []
   },
   "outputs": [],
   "source": [
    "pcshow(x,y,z)"
   ]
  },
  {
   "cell_type": "code",
   "execution_count": null,
   "metadata": {
    "execution": {
     "iopub.execute_input": "2021-01-21T10:38:04.878771Z",
     "iopub.status.busy": "2021-01-21T10:38:04.862705Z",
     "iopub.status.idle": "2021-01-21T10:38:04.884334Z",
     "shell.execute_reply": "2021-01-21T10:38:04.883544Z"
    },
    "papermill": {
     "duration": 0.252214,
     "end_time": "2021-01-21T10:38:04.884476",
     "exception": false,
     "start_time": "2021-01-21T10:38:04.632262",
     "status": "completed"
    },
    "tags": []
   },
   "outputs": [],
   "source": [
    "class PointSampler(object):\n",
    "    def __init__(self, output_size):\n",
    "        assert isinstance(output_size, int)\n",
    "        self.output_size = output_size\n",
    "    \n",
    "    def triangle_area(self, pt1, pt2, pt3):\n",
    "        side_a = np.linalg.norm(pt1 - pt2)\n",
    "        side_b = np.linalg.norm(pt2 - pt3)\n",
    "        side_c = np.linalg.norm(pt3 - pt1)\n",
    "        s = 0.5 * ( side_a + side_b + side_c)\n",
    "        return max(s * (s - side_a) * (s - side_b) * (s - side_c), 0)**0.5\n",
    "\n",
    "    def sample_point(self, pt1, pt2, pt3):\n",
    "        # barycentric coordinates on a triangle\n",
    "        # https://mathworld.wolfram.com/BarycentricCoordinates.html\n",
    "        s, t = sorted([random.random(), random.random()])\n",
    "        f = lambda i: s * pt1[i] + (t-s)*pt2[i] + (1-t)*pt3[i]\n",
    "        return (f(0), f(1), f(2))\n",
    "        \n",
    "    \n",
    "    def __call__(self, mesh):\n",
    "        verts, faces = mesh\n",
    "        verts = np.array(verts)\n",
    "        areas = np.zeros((len(faces)))\n",
    "\n",
    "        for i in range(len(areas)):\n",
    "            areas[i] = (self.triangle_area(verts[faces[i][0]],\n",
    "                                           verts[faces[i][1]],\n",
    "                                           verts[faces[i][2]]))\n",
    "            \n",
    "        sampled_faces = (random.choices(faces, \n",
    "                                      weights=areas,\n",
    "                                      cum_weights=None,\n",
    "                                      k=self.output_size))\n",
    "        \n",
    "        sampled_points = np.zeros((self.output_size, 3))\n",
    "\n",
    "        for i in range(len(sampled_faces)):\n",
    "            sampled_points[i] = (self.sample_point(verts[sampled_faces[i][0]],\n",
    "                                                   verts[sampled_faces[i][1]],\n",
    "                                                   verts[sampled_faces[i][2]]))\n",
    "        \n",
    "        return sampled_points"
   ]
  },
  {
   "cell_type": "code",
   "execution_count": null,
   "metadata": {
    "execution": {
     "iopub.execute_input": "2021-01-21T10:38:05.381733Z",
     "iopub.status.busy": "2021-01-21T10:38:05.380834Z",
     "iopub.status.idle": "2021-01-21T10:38:08.556899Z",
     "shell.execute_reply": "2021-01-21T10:38:08.557600Z"
    },
    "papermill": {
     "duration": 3.424993,
     "end_time": "2021-01-21T10:38:08.557796",
     "exception": false,
     "start_time": "2021-01-21T10:38:05.132803",
     "status": "completed"
    },
    "tags": []
   },
   "outputs": [],
   "source": [
    "pointcloud = PointSampler(3000)((verts, faces))\n",
    "pcshow(*pointcloud.T)"
   ]
  },
  {
   "cell_type": "code",
   "execution_count": null,
   "metadata": {
    "execution": {
     "iopub.execute_input": "2021-01-21T10:38:09.053561Z",
     "iopub.status.busy": "2021-01-21T10:38:09.052692Z",
     "iopub.status.idle": "2021-01-21T10:38:09.057086Z",
     "shell.execute_reply": "2021-01-21T10:38:09.056171Z"
    },
    "papermill": {
     "duration": 0.254977,
     "end_time": "2021-01-21T10:38:09.057227",
     "exception": false,
     "start_time": "2021-01-21T10:38:08.802250",
     "status": "completed"
    },
    "tags": []
   },
   "outputs": [],
   "source": [
    "class Normalize(object):\n",
    "    def __call__(self, pointcloud):\n",
    "        assert len(pointcloud.shape)==2\n",
    "        \n",
    "        norm_pointcloud = pointcloud - np.mean(pointcloud, axis=0) \n",
    "        norm_pointcloud /= np.max(np.linalg.norm(norm_pointcloud, axis=1))\n",
    "\n",
    "        return  norm_pointcloud"
   ]
  },
  {
   "cell_type": "code",
   "execution_count": null,
   "metadata": {
    "execution": {
     "iopub.execute_input": "2021-01-21T10:38:09.546560Z",
     "iopub.status.busy": "2021-01-21T10:38:09.545354Z",
     "iopub.status.idle": "2021-01-21T10:38:09.630380Z",
     "shell.execute_reply": "2021-01-21T10:38:09.629664Z"
    },
    "papermill": {
     "duration": 0.325232,
     "end_time": "2021-01-21T10:38:09.630512",
     "exception": false,
     "start_time": "2021-01-21T10:38:09.305280",
     "status": "completed"
    },
    "tags": []
   },
   "outputs": [],
   "source": [
    "norm_pointcloud = Normalize()(pointcloud)\n",
    "pcshow(*norm_pointcloud.T)"
   ]
  },
  {
   "cell_type": "code",
   "execution_count": null,
   "metadata": {
    "execution": {
     "iopub.execute_input": "2021-01-21T10:38:10.139630Z",
     "iopub.status.busy": "2021-01-21T10:38:10.138813Z",
     "iopub.status.idle": "2021-01-21T10:38:10.152425Z",
     "shell.execute_reply": "2021-01-21T10:38:10.153112Z"
    },
    "papermill": {
     "duration": 0.271471,
     "end_time": "2021-01-21T10:38:10.153293",
     "exception": false,
     "start_time": "2021-01-21T10:38:09.881822",
     "status": "completed"
    },
    "tags": []
   },
   "outputs": [],
   "source": [
    "class RandRotation_z(object):\n",
    "    def __call__(self, pointcloud):\n",
    "        assert len(pointcloud.shape)==2\n",
    "\n",
    "        theta = random.random() * 2. * math.pi\n",
    "        rot_matrix = np.array([[ math.cos(theta), -math.sin(theta),    0],\n",
    "                               [ math.sin(theta),  math.cos(theta),    0],\n",
    "                               [0,                             0,      1]])\n",
    "        \n",
    "        rot_pointcloud = rot_matrix.dot(pointcloud.T).T\n",
    "        return  rot_pointcloud\n",
    "    \n",
    "class RandomNoise(object):\n",
    "    def __call__(self, pointcloud):\n",
    "        assert len(pointcloud.shape)==2\n",
    "\n",
    "        noise = np.random.normal(0, 0.02, (pointcloud.shape))\n",
    "    \n",
    "        noisy_pointcloud = pointcloud + noise\n",
    "        return  noisy_pointcloud"
   ]
  },
  {
   "cell_type": "code",
   "execution_count": null,
   "metadata": {
    "execution": {
     "iopub.execute_input": "2021-01-21T10:38:10.666051Z",
     "iopub.status.busy": "2021-01-21T10:38:10.665042Z",
     "iopub.status.idle": "2021-01-21T10:38:10.768051Z",
     "shell.execute_reply": "2021-01-21T10:38:10.768788Z"
    },
    "papermill": {
     "duration": 0.361003,
     "end_time": "2021-01-21T10:38:10.768958",
     "exception": false,
     "start_time": "2021-01-21T10:38:10.407955",
     "status": "completed"
    },
    "tags": []
   },
   "outputs": [],
   "source": [
    "rot_pointcloud = RandRotation_z()(norm_pointcloud)\n",
    "noisy_rot_pointcloud = RandomNoise()(rot_pointcloud)\n",
    "pcshow(*noisy_rot_pointcloud.T)"
   ]
  },
  {
   "cell_type": "code",
   "execution_count": null,
   "metadata": {
    "execution": {
     "iopub.execute_input": "2021-01-21T10:38:11.266867Z",
     "iopub.status.busy": "2021-01-21T10:38:11.265958Z",
     "iopub.status.idle": "2021-01-21T10:38:11.271244Z",
     "shell.execute_reply": "2021-01-21T10:38:11.270533Z"
    },
    "papermill": {
     "duration": 0.243601,
     "end_time": "2021-01-21T10:38:11.271391",
     "exception": false,
     "start_time": "2021-01-21T10:38:11.027790",
     "status": "completed"
    },
    "tags": []
   },
   "outputs": [],
   "source": [
    "class ToTensor(object):\n",
    "    def __call__(self, pointcloud):\n",
    "        assert len(pointcloud.shape)==2\n",
    "\n",
    "        return torch.from_numpy(pointcloud)"
   ]
  },
  {
   "cell_type": "code",
   "execution_count": null,
   "metadata": {
    "execution": {
     "iopub.execute_input": "2021-01-21T10:38:11.796629Z",
     "iopub.status.busy": "2021-01-21T10:38:11.795983Z",
     "iopub.status.idle": "2021-01-21T10:38:11.799279Z",
     "shell.execute_reply": "2021-01-21T10:38:11.799814Z"
    },
    "papermill": {
     "duration": 0.268526,
     "end_time": "2021-01-21T10:38:11.799972",
     "exception": false,
     "start_time": "2021-01-21T10:38:11.531446",
     "status": "completed"
    },
    "tags": []
   },
   "outputs": [],
   "source": [
    "def default_transforms():\n",
    "    return transforms.Compose([\n",
    "                                PointSampler(1024),\n",
    "                                Normalize(),\n",
    "                                ToTensor()\n",
    "                              ])"
   ]
  },
  {
   "cell_type": "markdown",
   "metadata": {
    "papermill": {
     "duration": 0.24,
     "end_time": "2021-01-21T10:38:12.278769",
     "exception": false,
     "start_time": "2021-01-21T10:38:12.038769",
     "status": "completed"
    },
    "tags": []
   },
   "source": [
    "### Define Datasets / Dataloaders"
   ]
  },
  {
   "cell_type": "code",
   "execution_count": null,
   "metadata": {
    "execution": {
     "iopub.execute_input": "2021-01-21T10:38:12.783370Z",
     "iopub.status.busy": "2021-01-21T10:38:12.782726Z",
     "iopub.status.idle": "2021-01-21T10:38:12.803768Z",
     "shell.execute_reply": "2021-01-21T10:38:12.804315Z"
    },
    "papermill": {
     "duration": 0.266714,
     "end_time": "2021-01-21T10:38:12.804557",
     "exception": false,
     "start_time": "2021-01-21T10:38:12.537843",
     "status": "completed"
    },
    "tags": []
   },
   "outputs": [],
   "source": [
    "class PointCloudData(Dataset):\n",
    "    def __init__(self, root_dir, valid=False, folder=\"train\", transform=default_transforms()):\n",
    "        self.root_dir = root_dir\n",
    "        folders = [dir for dir in sorted(os.listdir(root_dir)) if os.path.isdir(root_dir/dir)]\n",
    "        self.classes = {folder: i for i, folder in enumerate(folders)}\n",
    "        self.transforms = transform if not valid else default_transforms()\n",
    "        self.valid = valid\n",
    "        self.files = []\n",
    "        for category in self.classes.keys():\n",
    "            new_dir = root_dir/Path(category)/folder\n",
    "            for file in os.listdir(new_dir):\n",
    "                if file.endswith('.off'):\n",
    "                    sample = {}\n",
    "                    sample['pcd_path'] = new_dir/file\n",
    "                    sample['category'] = category\n",
    "                    self.files.append(sample)\n",
    "\n",
    "    def __len__(self):\n",
    "        return len(self.files)\n",
    "\n",
    "    def __preproc__(self, file):\n",
    "        verts, faces = read_off(file)\n",
    "        if self.transforms:\n",
    "            pointcloud = self.transforms((verts, faces))\n",
    "        return pointcloud\n",
    "\n",
    "    def __getitem__(self, idx):\n",
    "        pcd_path = self.files[idx]['pcd_path']\n",
    "        category = self.files[idx]['category']\n",
    "        with open(pcd_path, 'r') as f:\n",
    "            pointcloud = self.__preproc__(f)\n",
    "        return {'pointcloud': pointcloud, \n",
    "                'category': self.classes[category]}"
   ]
  },
  {
   "cell_type": "code",
   "execution_count": null,
   "metadata": {
    "execution": {
     "iopub.execute_input": "2021-01-21T10:38:13.331440Z",
     "iopub.status.busy": "2021-01-21T10:38:13.330437Z",
     "iopub.status.idle": "2021-01-21T10:38:13.336409Z",
     "shell.execute_reply": "2021-01-21T10:38:13.337265Z"
    },
    "papermill": {
     "duration": 0.271938,
     "end_time": "2021-01-21T10:38:13.337436",
     "exception": false,
     "start_time": "2021-01-21T10:38:13.065498",
     "status": "completed"
    },
    "tags": []
   },
   "outputs": [],
   "source": [
    "train_transforms = transforms.Compose([\n",
    "                    PointSampler(1024),\n",
    "                    Normalize(),\n",
    "                    RandRotation_z(),\n",
    "                    RandomNoise(),\n",
    "                    ToTensor()\n",
    "                    ])"
   ]
  },
  {
   "cell_type": "code",
   "execution_count": null,
   "metadata": {
    "execution": {
     "iopub.execute_input": "2021-01-21T10:38:13.860863Z",
     "iopub.status.busy": "2021-01-21T10:38:13.859508Z",
     "iopub.status.idle": "2021-01-21T10:38:18.680622Z",
     "shell.execute_reply": "2021-01-21T10:38:18.681313Z"
    },
    "papermill": {
     "duration": 5.08562,
     "end_time": "2021-01-21T10:38:18.681504",
     "exception": false,
     "start_time": "2021-01-21T10:38:13.595884",
     "status": "completed"
    },
    "tags": []
   },
   "outputs": [],
   "source": [
    "train_ds = PointCloudData(path, transform=train_transforms)\n",
    "valid_ds = PointCloudData(path, valid=True, folder='test', transform=train_transforms)"
   ]
  },
  {
   "cell_type": "code",
   "execution_count": null,
   "metadata": {
    "execution": {
     "iopub.execute_input": "2021-01-21T10:38:19.242339Z",
     "iopub.status.busy": "2021-01-21T10:38:19.241192Z",
     "iopub.status.idle": "2021-01-21T10:38:19.246727Z",
     "shell.execute_reply": "2021-01-21T10:38:19.247624Z"
    },
    "papermill": {
     "duration": 0.302135,
     "end_time": "2021-01-21T10:38:19.247832",
     "exception": false,
     "start_time": "2021-01-21T10:38:18.945697",
     "status": "completed"
    },
    "tags": []
   },
   "outputs": [],
   "source": [
    "inv_classes = {i: cat for cat, i in train_ds.classes.items()};\n",
    "inv_classes"
   ]
  },
  {
   "cell_type": "code",
   "execution_count": null,
   "metadata": {
    "execution": {
     "iopub.execute_input": "2021-01-21T10:38:19.774477Z",
     "iopub.status.busy": "2021-01-21T10:38:19.773634Z",
     "iopub.status.idle": "2021-01-21T10:38:25.543070Z",
     "shell.execute_reply": "2021-01-21T10:38:25.542432Z"
    },
    "papermill": {
     "duration": 6.029776,
     "end_time": "2021-01-21T10:38:25.543192",
     "exception": false,
     "start_time": "2021-01-21T10:38:19.513416",
     "status": "completed"
    },
    "tags": []
   },
   "outputs": [],
   "source": [
    "print('Train dataset size: ', len(train_ds))\n",
    "print('Valid dataset size: ', len(valid_ds))\n",
    "print('Number of classes: ', len(train_ds.classes))\n",
    "print('Sample pointcloud shape: ', train_ds[0]['pointcloud'].size())\n",
    "print('Class: ', inv_classes[train_ds[0]['category']])"
   ]
  },
  {
   "cell_type": "code",
   "execution_count": null,
   "metadata": {
    "execution": {
     "iopub.execute_input": "2021-01-21T10:38:26.016203Z",
     "iopub.status.busy": "2021-01-21T10:38:26.015499Z",
     "iopub.status.idle": "2021-01-21T10:38:26.020244Z",
     "shell.execute_reply": "2021-01-21T10:38:26.020767Z"
    },
    "papermill": {
     "duration": 0.231431,
     "end_time": "2021-01-21T10:38:26.020920",
     "exception": false,
     "start_time": "2021-01-21T10:38:25.789489",
     "status": "completed"
    },
    "tags": []
   },
   "outputs": [],
   "source": [
    "train_loader = DataLoader(dataset=train_ds, batch_size=32, shuffle=True)\n",
    "valid_loader = DataLoader(dataset=valid_ds, batch_size=64)"
   ]
  },
  {
   "cell_type": "markdown",
   "metadata": {
    "papermill": {
     "duration": 0.261007,
     "end_time": "2021-01-21T10:38:27.081784",
     "exception": false,
     "start_time": "2021-01-21T10:38:26.820777",
     "status": "completed"
    },
    "tags": []
   },
   "source": [
    "### Model Definition"
   ]
  },
  {
   "cell_type": "code",
   "execution_count": null,
   "metadata": {
    "execution": {
     "iopub.execute_input": "2021-01-21T10:38:27.626865Z",
     "iopub.status.busy": "2021-01-21T10:38:27.625517Z",
     "iopub.status.idle": "2021-01-21T10:38:27.675038Z",
     "shell.execute_reply": "2021-01-21T10:38:27.673740Z"
    },
    "papermill": {
     "duration": 0.324856,
     "end_time": "2021-01-21T10:38:27.675193",
     "exception": false,
     "start_time": "2021-01-21T10:38:27.350337",
     "status": "completed"
    },
    "tags": []
   },
   "outputs": [],
   "source": [
    "import torch\n",
    "import torch.nn as nn\n",
    "import numpy as np\n",
    "import torch.nn.functional as F\n",
    "\n",
    "class Tnet(nn.Module):\n",
    "    def __init__(self, k=3):\n",
    "        super().__init__()\n",
    "        self.k=k\n",
    "        self.conv1 = nn.Conv1d(k,64,1)\n",
    "        self.conv2 = nn.Conv1d(64,128,1)\n",
    "        self.conv3 = nn.Conv1d(128,1024,1)\n",
    "        self.fc1 = nn.Linear(1024,512)\n",
    "        self.fc2 = nn.Linear(512,256)\n",
    "        self.fc3 = nn.Linear(256,k*k)\n",
    "\n",
    "        self.bn1 = nn.BatchNorm1d(64)\n",
    "        self.bn2 = nn.BatchNorm1d(128)\n",
    "        self.bn3 = nn.BatchNorm1d(1024)\n",
    "        self.bn4 = nn.BatchNorm1d(512)\n",
    "        self.bn5 = nn.BatchNorm1d(256)\n",
    "\n",
    "\n",
    "    def forward(self, input):\n",
    "        # input.shape == (bs,n,3)\n",
    "        bs = input.size(0)\n",
    "        xb = F.relu(self.bn1(self.conv1(input)))\n",
    "        xb = F.relu(self.bn2(self.conv2(xb)))\n",
    "        xb = F.relu(self.bn3(self.conv3(xb)))\n",
    "        pool = nn.MaxPool1d(xb.size(-1))(xb)\n",
    "        flat = nn.Flatten(1)(pool)\n",
    "        xb = F.relu(self.bn4(self.fc1(flat)))\n",
    "        xb = F.relu(self.bn5(self.fc2(xb)))\n",
    "\n",
    "        #initialize as identity\n",
    "        init = torch.eye(self.k, requires_grad=True).repeat(bs,1,1)\n",
    "        if xb.is_cuda:\n",
    "            init=init.cuda()\n",
    "        matrix = self.fc3(xb).view(-1,self.k,self.k) + init\n",
    "        return matrix\n",
    "\n",
    "\n",
    "class Transform(nn.Module):\n",
    "    def __init__(self):\n",
    "        super().__init__()\n",
    "        self.input_transform = Tnet(k=3)\n",
    "        self.feature_transform = Tnet(k=64)\n",
    "        self.conv1 = nn.Conv1d(3,64,1)\n",
    "\n",
    "        self.conv2 = nn.Conv1d(64,128,1)\n",
    "        self.conv3 = nn.Conv1d(128,1024,1)\n",
    "\n",
    "\n",
    "        self.bn1 = nn.BatchNorm1d(64)\n",
    "        self.bn2 = nn.BatchNorm1d(128)\n",
    "        self.bn3 = nn.BatchNorm1d(1024)\n",
    "\n",
    "    def forward(self, input):\n",
    "        matrix3x3 = self.input_transform(input)\n",
    "        # batch matrix multiplication\n",
    "        xb = torch.bmm(torch.transpose(input,1,2), matrix3x3).transpose(1,2)\n",
    "\n",
    "        xb = F.relu(self.bn1(self.conv1(xb)))\n",
    "\n",
    "        matrix64x64 = self.feature_transform(xb)\n",
    "        xb = torch.bmm(torch.transpose(xb,1,2), matrix64x64).transpose(1,2)\n",
    "\n",
    "        xb = F.relu(self.bn2(self.conv2(xb)))\n",
    "        xb = self.bn3(self.conv3(xb))\n",
    "        xb = nn.MaxPool1d(xb.size(-1))(xb)\n",
    "        output = nn.Flatten(1)(xb)\n",
    "        return output, matrix3x3, matrix64x64\n",
    "\n",
    "class PointNet(nn.Module):\n",
    "    def __init__(self, classes = 40):\n",
    "        super().__init__()\n",
    "        self.transform = Transform()\n",
    "        self.fc1 = nn.Linear(1024, 512)\n",
    "        self.fc2 = nn.Linear(512, 256)\n",
    "        self.fc3 = nn.Linear(256, classes)\n",
    "        \n",
    "\n",
    "        self.bn1 = nn.BatchNorm1d(512)\n",
    "        self.bn2 = nn.BatchNorm1d(256)\n",
    "        self.dropout = nn.Dropout(p=0.3)\n",
    "        self.logsoftmax = nn.LogSoftmax(dim=1)\n",
    "\n",
    "    def forward(self, input):\n",
    "        xb, matrix3x3, matrix64x64 = self.transform(input)\n",
    "        xb = F.relu(self.bn1(self.fc1(xb)))\n",
    "        xb = F.relu(self.bn2(self.dropout(self.fc2(xb))))\n",
    "        output = self.fc3(xb)\n",
    "        return self.logsoftmax(output), matrix3x3, matrix64x64"
   ]
  },
  {
   "cell_type": "code",
   "execution_count": null,
   "metadata": {
    "execution": {
     "iopub.execute_input": "2021-01-21T10:38:28.198431Z",
     "iopub.status.busy": "2021-01-21T10:38:28.194896Z",
     "iopub.status.idle": "2021-01-21T10:38:28.202900Z",
     "shell.execute_reply": "2021-01-21T10:38:28.202020Z"
    },
    "papermill": {
     "duration": 0.283572,
     "end_time": "2021-01-21T10:38:28.203040",
     "exception": false,
     "start_time": "2021-01-21T10:38:27.919468",
     "status": "completed"
    },
    "tags": []
   },
   "outputs": [],
   "source": [
    "def pointnetloss(outputs, labels, m3x3, m64x64, alpha = 0.0001):\n",
    "    criterion = torch.nn.NLLLoss()\n",
    "    bs=outputs.size(0)\n",
    "    id3x3 = torch.eye(3, requires_grad=True).repeat(bs,1,1)\n",
    "    id64x64 = torch.eye(64, requires_grad=True).repeat(bs,1,1)\n",
    "    if outputs.is_cuda:\n",
    "        id3x3=id3x3.cuda()\n",
    "        id64x64=id64x64.cuda()\n",
    "    diff3x3 = id3x3-torch.bmm(m3x3,m3x3.transpose(1,2))\n",
    "    diff64x64 = id64x64-torch.bmm(m64x64,m64x64.transpose(1,2))\n",
    "    return criterion(outputs, labels) + alpha * (torch.norm(diff3x3)+torch.norm(diff64x64)) / float(bs)"
   ]
  },
  {
   "cell_type": "code",
   "execution_count": null,
   "metadata": {
    "execution": {
     "iopub.execute_input": "2021-01-21T10:38:28.687057Z",
     "iopub.status.busy": "2021-01-21T10:38:28.685906Z",
     "iopub.status.idle": "2021-01-21T10:38:28.694771Z",
     "shell.execute_reply": "2021-01-21T10:38:28.693901Z"
    },
    "papermill": {
     "duration": 0.282307,
     "end_time": "2021-01-21T10:38:28.694936",
     "exception": false,
     "start_time": "2021-01-21T10:38:28.412629",
     "status": "completed"
    },
    "tags": []
   },
   "outputs": [],
   "source": [
    "device = torch.device(\"cuda\" if torch.cuda.is_available() else \"cpu\")\n",
    "print(device)"
   ]
  },
  {
   "cell_type": "code",
   "execution_count": null,
   "metadata": {
    "execution": {
     "iopub.execute_input": "2021-01-21T10:38:29.230826Z",
     "iopub.status.busy": "2021-01-21T10:38:29.229897Z",
     "iopub.status.idle": "2021-01-21T10:38:29.816950Z",
     "shell.execute_reply": "2021-01-21T10:38:29.815278Z"
    },
    "papermill": {
     "duration": 0.874335,
     "end_time": "2021-01-21T10:38:29.817202",
     "exception": false,
     "start_time": "2021-01-21T10:38:28.942867",
     "status": "completed"
    },
    "tags": []
   },
   "outputs": [],
   "source": [
    "pointnet = PointNet()\n",
    "pointnet.to(device);\n",
    "\n",
    "# Load a pre-trained model if it exists\n",
    "if os.path.exists('./archive/save.pth'):\n",
    "    pointnet.load_state_dict(torch.load('./archive/save.pth'))\n",
    "    print('Loaded Pre-trained PointNet Model!')"
   ]
  },
  {
   "cell_type": "code",
   "execution_count": null,
   "metadata": {
    "execution": {
     "iopub.execute_input": "2021-01-21T10:38:30.322698Z",
     "iopub.status.busy": "2021-01-21T10:38:30.321778Z",
     "iopub.status.idle": "2021-01-21T10:38:30.328310Z",
     "shell.execute_reply": "2021-01-21T10:38:30.329072Z"
    },
    "papermill": {
     "duration": 0.248143,
     "end_time": "2021-01-21T10:38:30.329252",
     "exception": false,
     "start_time": "2021-01-21T10:38:30.081109",
     "status": "completed"
    },
    "tags": []
   },
   "outputs": [],
   "source": [
    "optimizer = torch.optim.Adam(pointnet.parameters(), lr=0.0008)"
   ]
  },
  {
   "cell_type": "markdown",
   "metadata": {
    "papermill": {
     "duration": 0.301371,
     "end_time": "2021-01-21T10:38:30.861633",
     "exception": false,
     "start_time": "2021-01-21T10:38:30.560262",
     "status": "completed"
    },
    "tags": []
   },
   "source": [
    "### Train PointNet"
   ]
  },
  {
   "cell_type": "code",
   "execution_count": null,
   "metadata": {
    "execution": {
     "iopub.execute_input": "2021-01-21T10:38:31.782166Z",
     "iopub.status.busy": "2021-01-21T10:38:31.781267Z",
     "iopub.status.idle": "2021-01-21T10:38:31.796137Z",
     "shell.execute_reply": "2021-01-21T10:38:31.796884Z"
    },
    "papermill": {
     "duration": 0.299506,
     "end_time": "2021-01-21T10:38:31.797058",
     "exception": false,
     "start_time": "2021-01-21T10:38:31.497552",
     "status": "completed"
    },
    "tags": []
   },
   "outputs": [],
   "source": [
    "def train(model, train_loader, val_loader=None,  epochs=1):\n",
    "    for epoch in range(epochs): \n",
    "        pointnet.train()\n",
    "        running_loss = 0.0\n",
    "        for i, data in enumerate(train_loader, 0):\n",
    "            inputs, labels = data['pointcloud'].to(device).float(), data['category'].to(device)\n",
    "            optimizer.zero_grad()\n",
    "            outputs, m3x3, m64x64 = pointnet(inputs.transpose(1,2))\n",
    "\n",
    "            loss = pointnetloss(outputs, labels, m3x3, m64x64)\n",
    "            loss.backward()\n",
    "            optimizer.step()\n",
    "\n",
    "            # print statistics\n",
    "            running_loss += loss.item()\n",
    "            if i % 5 == 4:    # print every 5 mini-batches\n",
    "                print('[Epoch: %d, Batch: %4d / %4d], loss: %.3f' %\n",
    "                    (epoch + 1, i + 1, len(train_loader), running_loss / 5))\n",
    "                running_loss = 0.0\n",
    "\n",
    "        pointnet.eval()\n",
    "        correct = total = 0\n",
    "\n",
    "        # validation\n",
    "        if val_loader:\n",
    "            with torch.no_grad():\n",
    "                for data in val_loader:\n",
    "                    inputs, labels = data['pointcloud'].to(device).float(), data['category'].to(device)\n",
    "                    outputs, __, __ = pointnet(inputs.transpose(1,2))\n",
    "                    _, predicted = torch.max(outputs.data, 1)\n",
    "                    total += labels.size(0)\n",
    "                    correct += (predicted == labels).sum().item()\n",
    "            val_acc = 100. * correct / total\n",
    "            print('Valid accuracy: %d %%' % val_acc)\n",
    "\n",
    "        # save the model\n",
    "        torch.save(pointnet.state_dict(), \"save.pth\")"
   ]
  },
  {
   "cell_type": "code",
   "execution_count": null,
   "metadata": {
    "execution": {
     "iopub.execute_input": "2021-01-21T10:38:32.332996Z",
     "iopub.status.busy": "2021-01-21T10:38:32.332369Z",
     "iopub.status.idle": "2021-01-21T13:56:28.171225Z",
     "shell.execute_reply": "2021-01-21T13:56:28.172042Z"
    },
    "papermill": {
     "duration": 11876.110403,
     "end_time": "2021-01-21T13:56:28.172235",
     "exception": false,
     "start_time": "2021-01-21T10:38:32.061832",
     "status": "completed"
    },
    "tags": []
   },
   "outputs": [],
   "source": [
    "train(pointnet, train_loader, valid_loader)"
   ]
  },
  {
   "cell_type": "markdown",
   "metadata": {
    "papermill": {
     "duration": 0.289958,
     "end_time": "2021-01-21T13:56:28.752759",
     "exception": false,
     "start_time": "2021-01-21T13:56:28.462801",
     "status": "completed"
    },
    "tags": []
   },
   "source": [
    "### Test PointNet"
   ]
  },
  {
   "cell_type": "code",
   "execution_count": null,
   "metadata": {
    "execution": {
     "iopub.execute_input": "2021-01-21T13:56:29.302952Z",
     "iopub.status.busy": "2021-01-21T13:56:29.301955Z",
     "iopub.status.idle": "2021-01-21T14:25:53.531099Z",
     "shell.execute_reply": "2021-01-21T14:25:53.530233Z"
    },
    "papermill": {
     "duration": 1764.509477,
     "end_time": "2021-01-21T14:25:53.531261",
     "exception": false,
     "start_time": "2021-01-21T13:56:29.021784",
     "status": "completed"
    },
    "tags": []
   },
   "outputs": [],
   "source": [
    "pointnet.eval()\n",
    "all_preds = []\n",
    "all_labels = []\n",
    "with torch.no_grad():\n",
    "    for i, data in enumerate(valid_loader):\n",
    "        print('Batch [%4d / %4d]' % (i+1, len(valid_loader)))\n",
    "        \n",
    "        inputs, labels = data['pointcloud'].float(), data['category']\n",
    "        outputs, __, __ = pointnet(inputs.transpose(1,2))\n",
    "        _, preds = torch.max(outputs.data, 1)\n",
    "        all_preds += list(preds.numpy())\n",
    "        all_labels += list(labels.numpy())"
   ]
  },
  {
   "cell_type": "code",
   "execution_count": null,
   "metadata": {
    "execution": {
     "iopub.execute_input": "2021-01-21T14:25:54.060425Z",
     "iopub.status.busy": "2021-01-21T14:25:54.059764Z",
     "iopub.status.idle": "2021-01-21T14:25:54.074705Z",
     "shell.execute_reply": "2021-01-21T14:25:54.075211Z"
    },
    "papermill": {
     "duration": 0.229872,
     "end_time": "2021-01-21T14:25:54.075370",
     "exception": false,
     "start_time": "2021-01-21T14:25:53.845498",
     "status": "completed"
    },
    "tags": []
   },
   "outputs": [],
   "source": [
    "cm = confusion_matrix(all_labels, all_preds)"
   ]
  },
  {
   "cell_type": "code",
   "execution_count": null,
   "metadata": {
    "execution": {
     "iopub.execute_input": "2021-01-21T14:25:54.650137Z",
     "iopub.status.busy": "2021-01-21T14:25:54.640425Z",
     "iopub.status.idle": "2021-01-21T14:25:54.654162Z",
     "shell.execute_reply": "2021-01-21T14:25:54.653561Z"
    },
    "papermill": {
     "duration": 0.299966,
     "end_time": "2021-01-21T14:25:54.654274",
     "exception": false,
     "start_time": "2021-01-21T14:25:54.354308",
     "status": "completed"
    },
    "tags": []
   },
   "outputs": [],
   "source": [
    "# function from https://deeplizard.com/learn/video/0LhiS6yu2qQ\n",
    "def plot_confusion_matrix(cm, classes, normalize=False, title='Confusion matrix', cmap=plt.cm.Blues):\n",
    "    if normalize:\n",
    "        cm = cm.astype('float') / cm.sum(axis=1)[:, np.newaxis]\n",
    "        print(\"Normalized confusion matrix\")\n",
    "    else:\n",
    "        print('Confusion matrix, without normalization')\n",
    "\n",
    "    plt.imshow(cm, interpolation='nearest', cmap=cmap)\n",
    "    plt.title(title)\n",
    "    plt.colorbar()\n",
    "    tick_marks = np.arange(len(classes))\n",
    "    plt.xticks(tick_marks, classes, rotation=45)\n",
    "    plt.yticks(tick_marks, classes)\n",
    "\n",
    "    fmt = '.2f' if normalize else 'd'\n",
    "    thresh = cm.max() / 2.\n",
    "    for i, j in itertools.product(range(cm.shape[0]), range(cm.shape[1])):\n",
    "        plt.text(j, i, format(cm[i, j], fmt), horizontalalignment=\"center\", color=\"white\" if cm[i, j] > thresh else \"black\")\n",
    "\n",
    "    plt.tight_layout()\n",
    "    plt.ylabel('True label')\n",
    "    plt.xlabel('Predicted label')"
   ]
  },
  {
   "cell_type": "code",
   "execution_count": null,
   "metadata": {
    "execution": {
     "iopub.execute_input": "2021-01-21T14:25:55.243059Z",
     "iopub.status.busy": "2021-01-21T14:25:55.230448Z",
     "iopub.status.idle": "2021-01-21T14:26:00.291875Z",
     "shell.execute_reply": "2021-01-21T14:26:00.291310Z"
    },
    "papermill": {
     "duration": 5.357162,
     "end_time": "2021-01-21T14:26:00.291993",
     "exception": false,
     "start_time": "2021-01-21T14:25:54.934831",
     "status": "completed"
    },
    "tags": []
   },
   "outputs": [],
   "source": [
    "plt.figure(figsize=(16,16))\n",
    "plot_confusion_matrix(cm, list(classes.keys()), normalize=True)"
   ]
  },
  {
   "cell_type": "code",
   "execution_count": null,
   "metadata": {
    "execution": {
     "iopub.execute_input": "2021-01-21T14:26:01.049870Z",
     "iopub.status.busy": "2021-01-21T14:26:01.042973Z",
     "iopub.status.idle": "2021-01-21T14:26:07.069404Z",
     "shell.execute_reply": "2021-01-21T14:26:07.068806Z"
    },
    "papermill": {
     "duration": 6.485062,
     "end_time": "2021-01-21T14:26:07.069534",
     "exception": false,
     "start_time": "2021-01-21T14:26:00.584472",
     "status": "completed"
    },
    "tags": []
   },
   "outputs": [],
   "source": [
    "plt.figure(figsize=(16,16))\n",
    "plot_confusion_matrix(cm, list(classes.keys()), normalize=False)"
   ]
  },
  {
   "cell_type": "code",
   "execution_count": null,
   "metadata": {},
   "outputs": [],
   "source": []
  },
  {
   "cell_type": "code",
   "execution_count": null,
   "metadata": {},
   "outputs": [],
   "source": []
  }
 ],
 "metadata": {
  "kernelspec": {
   "display_name": "Python [conda env:3d_classification] *",
   "language": "python",
   "name": "conda-env-3d_classification-py"
  },
  "language_info": {
   "codemirror_mode": {
    "name": "ipython",
    "version": 3
   },
   "file_extension": ".py",
   "mimetype": "text/x-python",
   "name": "python",
   "nbconvert_exporter": "python",
   "pygments_lexer": "ipython3",
   "version": "3.6.13"
  },
  "papermill": {
   "duration": 13697.425454,
   "end_time": "2021-01-21T14:26:07.477886",
   "environment_variables": {},
   "exception": null,
   "input_path": "__notebook__.ipynb",
   "output_path": "__notebook__.ipynb",
   "parameters": {},
   "start_time": "2021-01-21T10:37:50.052432",
   "version": "2.1.0"
  }
 },
 "nbformat": 4,
 "nbformat_minor": 4
}
